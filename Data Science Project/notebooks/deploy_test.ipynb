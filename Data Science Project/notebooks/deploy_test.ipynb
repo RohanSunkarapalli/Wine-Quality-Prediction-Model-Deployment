{
 "cells": [
  {
   "cell_type": "code",
   "execution_count": 1,
   "metadata": {},
   "outputs": [],
   "source": [
    "%%capture\n",
    "%pip install uvicorn\n",
    "%pip install fastapi\n",
    "%pip install pydantic\n",
    "%cd '../src'"
   ]
  },
  {
   "cell_type": "code",
   "execution_count": 2,
   "metadata": {},
   "outputs": [
    {
     "name": "stdout",
     "output_type": "stream",
     "text": [
      "\u001b[32mINFO\u001b[0m:     Started server process [\u001b[36m6451\u001b[0m]\n",
      "\u001b[32mINFO\u001b[0m:     Waiting for application startup.\n",
      "\u001b[32mINFO\u001b[0m:     Application startup complete.\n",
      "\u001b[32mINFO\u001b[0m:     Uvicorn running on \u001b[1mhttp://127.0.0.1:8000\u001b[0m (Press CTRL+C to quit)\n",
      "\u001b[32mINFO\u001b[0m:     127.0.0.1:56152 - \"\u001b[1mGET / HTTP/1.1\u001b[0m\" \u001b[32m200 OK\u001b[0m\n",
      "\u001b[32mINFO\u001b[0m:     127.0.0.1:56153 - \"\u001b[1mGET /docs HTTP/1.1\u001b[0m\" \u001b[32m200 OK\u001b[0m\n",
      "\u001b[32mINFO\u001b[0m:     127.0.0.1:56153 - \"\u001b[1mGET /openapi.json HTTP/1.1\u001b[0m\" \u001b[32m200 OK\u001b[0m\n",
      "[[5.64837263]]\n",
      "\u001b[32mINFO\u001b[0m:     127.0.0.1:56154 - \"\u001b[1mPOST /wine/predict HTTP/1.1\u001b[0m\" \u001b[32m200 OK\u001b[0m\n",
      "^C\n",
      "\u001b[32mINFO\u001b[0m:     Shutting down\n",
      "\u001b[32mINFO\u001b[0m:     Waiting for application shutdown.\n",
      "\u001b[32mINFO\u001b[0m:     Application shutdown complete.\n",
      "\u001b[32mINFO\u001b[0m:     Finished server process [\u001b[36m6451\u001b[0m]\n"
     ]
    }
   ],
   "source": [
    "!python3 -m uvicorn deploy:app"
   ]
  },
  {
   "cell_type": "code",
   "execution_count": 3,
   "metadata": {},
   "outputs": [
    {
     "data": {
      "text/plain": [
       "''"
      ]
     },
     "execution_count": 3,
     "metadata": {},
     "output_type": "execute_result"
    }
   ],
   "source": [
    "### Sample data\n",
    "{\n",
    "  \"fixed_acidity\": 7,\n",
    "  \"volatile_acidity\": 0.27,\n",
    "  \"citric_acid\": 0.36,\n",
    "  \"residual_sugar\": 20.7,\n",
    "  \"chlorides\": 0.045,\n",
    "  \"free_sulfur_dioxide\": 45,\n",
    "  \"total_sulfur_dioxide\": 170,\n",
    "  \"density\": 1.001,\n",
    "  \"pH\": 3,\n",
    "  \"sulphates\": 0.45,\n",
    "  \"alcohol\": 8.8,\n",
    "  \"type\": 1\n",
    "}\n",
    "## prediction should be 5.64 or 6\n",
    "''"
   ]
  }
 ],
 "metadata": {
  "kernelspec": {
   "display_name": "Python 3",
   "language": "python",
   "name": "python3"
  },
  "language_info": {
   "codemirror_mode": {
    "name": "ipython",
    "version": 3
   },
   "file_extension": ".py",
   "mimetype": "text/x-python",
   "name": "python",
   "nbconvert_exporter": "python",
   "pygments_lexer": "ipython3",
   "version": "3.9.6"
  }
 },
 "nbformat": 4,
 "nbformat_minor": 2
}
